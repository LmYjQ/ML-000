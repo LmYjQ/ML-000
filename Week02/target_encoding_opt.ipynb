{
 "cells": [
  {
   "cell_type": "code",
   "execution_count": 2,
   "metadata": {},
   "outputs": [],
   "source": [
    "# coding = 'utf-8'\n",
    "import numpy as np\n",
    "import pandas as pd"
   ]
  },
  {
   "cell_type": "code",
   "execution_count": 3,
   "metadata": {},
   "outputs": [],
   "source": [
    "%load_ext Cython"
   ]
  },
  {
   "cell_type": "code",
   "execution_count": 4,
   "metadata": {},
   "outputs": [],
   "source": [
    "y = np.random.randint(2, size=(500, 1))\n",
    "x = np.random.randint(10, size=(500, 1))\n",
    "data = pd.DataFrame(np.concatenate([y, x], axis=1), columns=['y', 'x'])"
   ]
  },
  {
   "cell_type": "code",
   "execution_count": 5,
   "metadata": {},
   "outputs": [],
   "source": [
    "def target_mean_v1(data, y_name, x_name):\n",
    "    result = np.zeros(data.shape[0])\n",
    "    for i in range(data.shape[0]):\n",
    "        groupby_result = data[data.index != i].groupby([x_name], as_index=False).agg(['mean', 'count'])\n",
    "        result[i] = groupby_result.loc[groupby_result.index == data.loc[i, x_name], (y_name, 'mean')]\n",
    "    return result"
   ]
  },
  {
   "cell_type": "code",
   "execution_count": 6,
   "metadata": {},
   "outputs": [],
   "source": [
    "def target_mean_v2(data, y_name, x_name):\n",
    "    d1 = {}\n",
    "    d2 = {}\n",
    "    result = []\n",
    "    for x,y in zip(data[x_name],data[y_name]):\n",
    "        if x not in d1:\n",
    "            d1[x] = y\n",
    "            d2[x] = 1\n",
    "        else:\n",
    "            d1[x] += y\n",
    "            d2[x] += 1\n",
    "    for x,y in zip(data[x_name],data[y_name]):\n",
    "        feature = (d1[x]-y)/(d2[x]-1)\n",
    "        result.append(feature)\n",
    "    return result"
   ]
  },
  {
   "cell_type": "code",
   "execution_count": 7,
   "metadata": {},
   "outputs": [],
   "source": [
    "def target_mean_v3(data, y_name, x_name):\n",
    "    d1 = {}\n",
    "    d2 = {}\n",
    "    result = []\n",
    "    x, y = data[x_name],data[y_name]\n",
    "    for i in range(data.shape[0]):\n",
    "        if x[i] not in d1:\n",
    "            d1[x[i]] = y[i]\n",
    "            d2[x[i]] = 1\n",
    "        else:\n",
    "            d1[x[i]] += y[i]\n",
    "            d2[x[i]] += 1\n",
    "    for i in range(data.shape[0]):\n",
    "        feature = (d1[x[i]]-y[i])/(d2[x[i]]-1)\n",
    "        result.append(feature)\n",
    "    return result"
   ]
  },
  {
   "cell_type": "code",
   "execution_count": 8,
   "metadata": {},
   "outputs": [],
   "source": [
    "%%cython\n",
    "import numpy as np\n",
    "cimport numpy as np\n",
    "cimport cython\n",
    "from cython.parallel import prange\n",
    "\n",
    "cpdef target_mean_v4(np.ndarray x, np.ndarray y):\n",
    "    cdef int feature_size = 10\n",
    "    cdef int i\n",
    "    cdef int n = x.shape[0]\n",
    "\n",
    "    cdef np.ndarray memo_sum = np.zeros(feature_size, dtype=int)\n",
    "    cdef np.ndarray memo_cnt = np.zeros(feature_size, dtype=int)\n",
    "    cdef np.ndarray result = np.zeros(n, dtype=float)\n",
    "    \n",
    "    for i in range(n):\n",
    "        memo_sum[x[i]] += y[i]\n",
    "        memo_cnt[x[i]] += 1\n",
    "    for i in range(n):\n",
    "        result[i] = (memo_sum[x[i]]-y[i])/(memo_cnt[x[i]]-1)\n",
    "    return result"
   ]
  },
  {
   "cell_type": "code",
   "execution_count": 47,
   "metadata": {},
   "outputs": [],
   "source": [
    "%%cython\n",
    "import numpy as np\n",
    "cimport numpy as np\n",
    "cimport cython\n",
    "from cython.parallel import prange\n",
    "\n",
    "@cython.boundscheck(False)  # Deactivate bounds checking\n",
    "@cython.wraparound(False)   # Deactivate negative indexing.\n",
    "cpdef target_mean_v5(int[:] x, int[:] y):\n",
    "    cdef int feature_size = 10\n",
    "    cdef int i\n",
    "    cdef int n = x.shape[0]\n",
    "    cdef int[:] memo_cnt=np.zeros(feature_size).astype(np.intc)\n",
    "    cdef int[:] memo_sum=np.zeros(feature_size).astype(np.intc)\n",
    "    cdef double[:] result=np.zeros(n)\n",
    "    \n",
    "    for i in prange(n, nogil=True):\n",
    "        memo_sum[x[i]] += y[i]\n",
    "        memo_cnt[x[i]] += 1\n",
    "    for i in prange(n, nogil=True):\n",
    "        result[i] = (memo_sum[x[i]]-y[i])/(memo_cnt[x[i]]-1)\n",
    "    return result"
   ]
  },
  {
   "cell_type": "code",
   "execution_count": 15,
   "metadata": {},
   "outputs": [],
   "source": [
    "answer = target_mean_v1(data, 'y', 'x')"
   ]
  },
  {
   "cell_type": "code",
   "execution_count": 8,
   "metadata": {},
   "outputs": [
    {
     "name": "stdout",
     "output_type": "stream",
     "text": [
      "1.53 s ± 58.3 ms per loop (mean ± std. dev. of 7 runs, 1 loop each)\n"
     ]
    }
   ],
   "source": [
    "%%timeit\n",
    "target_mean_v1(data, 'y', 'x')"
   ]
  },
  {
   "cell_type": "code",
   "execution_count": 9,
   "metadata": {},
   "outputs": [
    {
     "data": {
      "text/plain": [
       "0.0"
      ]
     },
     "execution_count": 9,
     "metadata": {},
     "output_type": "execute_result"
    }
   ],
   "source": [
    "result2 = target_mean_v2(data, 'y', 'x')\n",
    "np.linalg.norm(result2-answer)"
   ]
  },
  {
   "cell_type": "code",
   "execution_count": 10,
   "metadata": {},
   "outputs": [
    {
     "name": "stdout",
     "output_type": "stream",
     "text": [
      "209 µs ± 2.54 µs per loop (mean ± std. dev. of 7 runs, 1000 loops each)\n"
     ]
    }
   ],
   "source": [
    "%%timeit\n",
    "target_mean_v2(data, 'y', 'x')"
   ]
  },
  {
   "cell_type": "code",
   "execution_count": 11,
   "metadata": {},
   "outputs": [
    {
     "data": {
      "text/plain": [
       "0.0"
      ]
     },
     "execution_count": 11,
     "metadata": {},
     "output_type": "execute_result"
    }
   ],
   "source": [
    "result3 = target_mean_v3(data, 'y', 'x')\n",
    "np.linalg.norm(result3-answer)"
   ]
  },
  {
   "cell_type": "code",
   "execution_count": 12,
   "metadata": {},
   "outputs": [
    {
     "name": "stdout",
     "output_type": "stream",
     "text": [
      "21.5 ms ± 367 µs per loop (mean ± std. dev. of 7 runs, 10 loops each)\n"
     ]
    }
   ],
   "source": [
    "%%timeit\n",
    "target_mean_v3(data, 'y', 'x')"
   ]
  },
  {
   "cell_type": "code",
   "execution_count": 73,
   "metadata": {},
   "outputs": [
    {
     "data": {
      "text/plain": [
       "0.0"
      ]
     },
     "execution_count": 73,
     "metadata": {},
     "output_type": "execute_result"
    }
   ],
   "source": [
    "result4 = target_mean_v4(data['x'].values, data['y'].values)\n",
    "np.linalg.norm(result4-answer)"
   ]
  },
  {
   "cell_type": "code",
   "execution_count": 20,
   "metadata": {},
   "outputs": [
    {
     "name": "stdout",
     "output_type": "stream",
     "text": [
      "771 µs ± 26.5 µs per loop (mean ± std. dev. of 7 runs, 1000 loops each)\n"
     ]
    }
   ],
   "source": [
    "%%timeit\n",
    "target_mean_v4(data['x'].values, data['y'].values)"
   ]
  },
  {
   "cell_type": "code",
   "execution_count": 49,
   "metadata": {},
   "outputs": [
    {
     "data": {
      "text/plain": [
       "0.0"
      ]
     },
     "execution_count": 49,
     "metadata": {},
     "output_type": "execute_result"
    }
   ],
   "source": [
    "result5 = target_mean_v5(data['x'].values.astype(np.intc), data['y'].values.astype(np.intc))\n",
    "np.linalg.norm(result5-answer)"
   ]
  },
  {
   "cell_type": "code",
   "execution_count": 50,
   "metadata": {},
   "outputs": [
    {
     "name": "stdout",
     "output_type": "stream",
     "text": [
      "14.2 µs ± 368 ns per loop (mean ± std. dev. of 7 runs, 100000 loops each)\n"
     ]
    }
   ],
   "source": [
    "%%timeit\n",
    "target_mean_v5(data['x'].values.astype(np.intc), data['y'].values.astype(np.intc))"
   ]
  },
  {
   "cell_type": "code",
   "execution_count": null,
   "metadata": {},
   "outputs": [],
   "source": []
  }
 ],
 "metadata": {
  "kernelspec": {
   "display_name": "Python 3",
   "language": "python",
   "name": "python3"
  },
  "language_info": {
   "codemirror_mode": {
    "name": "ipython",
    "version": 3
   },
   "file_extension": ".py",
   "mimetype": "text/x-python",
   "name": "python",
   "nbconvert_exporter": "python",
   "pygments_lexer": "ipython3",
   "version": "3.7.2"
  },
  "toc": {
   "base_numbering": 1,
   "nav_menu": {},
   "number_sections": true,
   "sideBar": true,
   "skip_h1_title": false,
   "title_cell": "Table of Contents",
   "title_sidebar": "Contents",
   "toc_cell": false,
   "toc_position": {},
   "toc_section_display": true,
   "toc_window_display": false
  }
 },
 "nbformat": 4,
 "nbformat_minor": 2
}
